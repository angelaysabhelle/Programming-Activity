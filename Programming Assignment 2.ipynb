{
 "cells": [
  {
   "cell_type": "markdown",
   "id": "c14ef32f-dd8d-46be-ae6f-875dc603694e",
   "metadata": {},
   "source": [
    "**Programming Assignment 2**\n",
    "\n",
    "Munsayac, Angela Ysabhelle C.\n",
    "\n",
    "2ECE-B \n",
    "\n",
    "EXPERIMENT 2\n",
    "NUMERICAL PYTHON (NUMPY) \n"
   ]
  },
  {
   "cell_type": "code",
   "execution_count": 1,
   "id": "85fcfdd6-79f2-4a02-bd54-8bde6a812fea",
   "metadata": {},
   "outputs": [],
   "source": [
    "import numpy as np"
   ]
  },
  {
   "cell_type": "markdown",
   "id": "52805b6e-1f9d-4d50-a039-33a0d5bcc2ae",
   "metadata": {},
   "source": [
    "**NORMALIZATION PROBLEM**"
   ]
  },
  {
   "cell_type": "code",
   "execution_count": 21,
   "id": "c16e51a4-c39f-470e-bbac-68b62361067d",
   "metadata": {},
   "outputs": [
    {
     "name": "stdout",
     "output_type": "stream",
     "text": [
      "Normalized values:\n",
      " [[ 1.3577696   0.84929882 -0.17600637  0.19273152 -0.660132  ]\n",
      " [ 1.63305096  1.05071568 -1.08687788  1.36093923 -0.1681004 ]\n",
      " [ 0.16630034 -0.95708053  1.27546434 -0.01740076 -1.45596687]\n",
      " [-0.12446051 -1.12316626 -1.79395552 -1.71329296  0.50282414]\n",
      " [-0.21253436  1.39082487  0.1145899  -0.77271049  0.36717551]]\n"
     ]
    }
   ],
   "source": [
    "\n",
    "x = np.random.rand(5, 5)  # Create a random 5x5 ndarray\n",
    "\n",
    " \n",
    "mean_x = x.mean()         #Compute the mean and standard deviation of X \n",
    "std_x = x.std()           \n",
    "\n",
    "\n",
    "x_normalized = (x - mean_x) / std_x #Normalize X using Z = (X - mean) / std\n",
    "\n",
    "\n",
    "np.save(\"x_normalized.npy\", x_normalized)  # Save the normalized ndarray to a file\n",
    "\n",
    "print(\"Normalized values:\\n\" , x_normalized)\n",
    "\n"
   ]
  },
  {
   "cell_type": "markdown",
   "id": "89d84401-aee6-4929-8b0b-f84c1fd40ce6",
   "metadata": {},
   "source": [
    " **DIVISIBLE BY 3 PROBLEM**\n",
    " "
   ]
  },
  {
   "cell_type": "code",
   "execution_count": 6,
   "id": "eb9a0584-c78b-437c-99fa-46e294354dad",
   "metadata": {},
   "outputs": [
    {
     "name": "stdout",
     "output_type": "stream",
     "text": [
      "Array is:\n",
      " [[    1     4     9    16    25    36    49    64    81   100]\n",
      " [  121   144   169   196   225   256   289   324   361   400]\n",
      " [  441   484   529   576   625   676   729   784   841   900]\n",
      " [  961  1024  1089  1156  1225  1296  1369  1444  1521  1600]\n",
      " [ 1681  1764  1849  1936  2025  2116  2209  2304  2401  2500]\n",
      " [ 2601  2704  2809  2916  3025  3136  3249  3364  3481  3600]\n",
      " [ 3721  3844  3969  4096  4225  4356  4489  4624  4761  4900]\n",
      " [ 5041  5184  5329  5476  5625  5776  5929  6084  6241  6400]\n",
      " [ 6561  6724  6889  7056  7225  7396  7569  7744  7921  8100]\n",
      " [ 8281  8464  8649  8836  9025  9216  9409  9604  9801 10000]]\n",
      "Elements divisible by 3:\n",
      " [   9   36   81  144  225  324  441  576  729  900 1089 1296 1521 1764\n",
      " 2025 2304 2601 2916 3249 3600 3969 4356 4761 5184 5625 6084 6561 7056\n",
      " 7569 8100 8649 9216 9801]\n",
      "Number of elements divisible by 3: 33\n"
     ]
    }
   ],
   "source": [
    "import numpy as np\n",
    "\n",
    "                                                                    # Create array of squares of the first 100 positive integers\n",
    "a = np.array([(i + 1) ** 2 for i in range(100)]).reshape(10, 10)    # ([(i + 1) ** 2 for i in range(100)]gives squares of 1² to 100². \n",
    "                                                                    #.reshape(10, 10) makes it a 10×10 array (same shape as your original).\n",
    "\n",
    "                                                                    # np.sum(a % 3 == 0) counts elements divisible by 3   \n",
    "                                                                    # Count how many are divisible by 3\n",
    "count = np.sum(a % 3 == 0)\n",
    "\n",
    "                                                                    # Create array of elements divisible by 3\n",
    "div_by_3 = a[a % 3 == 0]                                            # Added this line to define div_by_3\n",
    "\n",
    "print(\"Array is:\\n\", a)\n",
    "print(\"Elements divisible by 3:\\n\", div_by_3)\n",
    "print(\"Number of elements divisible by 3:\", count)                  #added a feature that can sum all of the numbers  divisible by 3 "
   ]
  },
  {
   "cell_type": "code",
   "execution_count": null,
   "id": "7a870101-9584-4d6d-9aa6-085dfe848c09",
   "metadata": {},
   "outputs": [],
   "source": []
  },
  {
   "cell_type": "code",
   "execution_count": null,
   "id": "4a26d15e-a006-4376-a5a5-9d0aa3cdafef",
   "metadata": {},
   "outputs": [],
   "source": []
  },
  {
   "cell_type": "code",
   "execution_count": 14,
   "id": "742048aa-8a8b-4473-980d-b63e13e59555",
   "metadata": {},
   "outputs": [],
   "source": [
    "import numpy as np\n",
    "\n",
    "# Step 1: Create a random 5x5 array\n",
    "X = np.random.rand(5, 5)\n",
    "\n",
    "# Step 2: Normalize the array (element-wise)\n",
    "X_normalized = (X - X.mean()) / X.std()\n",
    "\n",
    "# Step 3: Save the normalized array to a .npy file\n",
    "np.save('X_normalized.npy', X_normalized)"
   ]
  },
  {
   "cell_type": "code",
   "execution_count": null,
   "id": "219741ce-b284-49bb-bc5b-9482b7decd81",
   "metadata": {},
   "outputs": [],
   "source": []
  }
 ],
 "metadata": {
  "kernelspec": {
   "display_name": "Python [conda env:base] *",
   "language": "python",
   "name": "conda-base-py"
  },
  "language_info": {
   "codemirror_mode": {
    "name": "ipython",
    "version": 3
   },
   "file_extension": ".py",
   "mimetype": "text/x-python",
   "name": "python",
   "nbconvert_exporter": "python",
   "pygments_lexer": "ipython3",
   "version": "3.13.5"
  }
 },
 "nbformat": 4,
 "nbformat_minor": 5
}
