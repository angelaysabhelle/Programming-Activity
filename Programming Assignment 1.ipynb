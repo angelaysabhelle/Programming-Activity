{
 "cells": [
  {
   "cell_type": "markdown",
   "id": "7efa420c-d67f-4969-9af0-7d1b774676b6",
   "metadata": {},
   "source": [
    "**INTRODUCTION TO PYTHON PROGRAMMING**\n",
    "\n",
    "Assignment 1\n",
    "Munsayac, Angela Ysabhelle C.\n",
    "2ECE-B"
   ]
  },
  {
   "cell_type": "markdown",
   "id": "35fb4455-192d-4899-a9de-6512d81b60e0",
   "metadata": {},
   "source": [
    "**Alphabet Soup Numbers**"
   ]
  },
  {
   "cell_type": "code",
   "execution_count": 4,
   "id": "aa33d8bf-a6eb-4083-88e2-ca34044887d7",
   "metadata": {},
   "outputs": [
    {
     "name": "stdin",
     "output_type": "stream",
     "text": [
      "Enter a string:  assaaaaascxvdsdddcczzzzzzz\n"
     ]
    },
    {
     "name": "stdout",
     "output_type": "stream",
     "text": [
      "Alphabet Order: aaaaaacccddddssssvxzzzzzzz\n"
     ]
    }
   ],
   "source": [
    "def alphabet_soup(s):\n",
    "    \n",
    "    letters = sorted([char for char in s if char.isalpha()], key=str.lower) #for chronological order of the letters \n",
    "                                                                            #s string, and str.lower is for the lowercase\n",
    "    return ''.join(letters)                                                 #combine the strings in one\n",
    "\n",
    "#output of the program\n",
    "text = input(\"Enter a string: \")                                           #user inputting a string \n",
    "sorted_text = alphabet_soup(text)                                          #to sort the letters alphabetically\n",
    "print(\"Alphabet Order:\", sorted_text)                                      #return the string in a sorted format"
   ]
  },
  {
   "cell_type": "markdown",
   "id": "4792ee0a-fb36-4f8b-97f6-f2e3fe4e5c6e",
   "metadata": {},
   "source": [
    "**Emoticon Problem**"
   ]
  },
  {
   "cell_type": "code",
   "execution_count": 10,
   "id": "07ce45b9-4abd-4b58-a27e-00a8b2b5de73",
   "metadata": {},
   "outputs": [
    {
     "name": "stdin",
     "output_type": "stream",
     "text": [
      "Enter a sentence:  sad, grin, mad\n"
     ]
    },
    {
     "name": "stdout",
     "output_type": "stream",
     "text": [
      "With emoticons: :(, :D, >:(\n"
     ]
    }
   ],
   "source": [
    "def my_function(sentence):                           #declared function in the program \n",
    "   \n",
    "    sentence = sentence.replace(\"smile\", \":)\")       #where we replace the words into emoticons\n",
    "    sentence = sentence.replace(\"grin\", \":D\")\n",
    "    sentence = sentence.replace(\"sad\", \":(\")\n",
    "    sentence = sentence.replace(\"mad\", \">:(\")\n",
    "    return sentence\n",
    "\n",
    " \n",
    "#output of the program\n",
    "text = input(\"Enter a sentence: \")                  #where user will input a sentence\n",
    "converted = my_function(text) \n",
    "print(\"With emoticons:\", converted)                #output of emoticons\n"
   ]
  },
  {
   "cell_type": "markdown",
   "id": "4d012848-3cb5-4c8e-8fe6-4b3a1db778af",
   "metadata": {},
   "source": [
    "**Unpacking List Problem**"
   ]
  },
  {
   "cell_type": "code",
   "execution_count": 9,
   "id": "9361c638-2f8c-42cc-bcb5-1ee8e4a80cd3",
   "metadata": {},
   "outputs": [
    {
     "name": "stdin",
     "output_type": "stream",
     "text": [
      "Enter numbers:  27 17 19 28 10 10\n"
     ]
    },
    {
     "name": "stdout",
     "output_type": "stream",
     "text": [
      "First: 27\n",
      "Second:  [17, 19, 28, 10]\n",
      "Last:  10\n"
     ]
    }
   ],
   "source": [
    "\n",
    "numbers = input(\"Enter numbers: \")              #enter a space for comas in the output\n",
    "yourcode = list(map(int, numbers.split()))      #declaring as int and it split the integers\n",
    "\n",
    "first = yourcode [0]                            #used a slicing method to separate the inputted numbers\n",
    "middle = yourcode[1: -1]\n",
    "last = yourcode[-1]\n",
    "\n",
    "#Output of the program \n",
    "print(\"First:\" , first)\n",
    "print(\"Second: \", middle)\n",
    "print(\"Last: \", last)\n"
   ]
  },
  {
   "cell_type": "code",
   "execution_count": null,
   "id": "ae1072b8-c6d3-442a-9126-41420bcc85e6",
   "metadata": {},
   "outputs": [],
   "source": []
  },
  {
   "cell_type": "code",
   "execution_count": null,
   "id": "07b16269-6382-4be8-8635-c3c40d288cfd",
   "metadata": {},
   "outputs": [],
   "source": []
  }
 ],
 "metadata": {
  "kernelspec": {
   "display_name": "Python [conda env:base] *",
   "language": "python",
   "name": "conda-base-py"
  },
  "language_info": {
   "codemirror_mode": {
    "name": "ipython",
    "version": 3
   },
   "file_extension": ".py",
   "mimetype": "text/x-python",
   "name": "python",
   "nbconvert_exporter": "python",
   "pygments_lexer": "ipython3",
   "version": "3.13.5"
  }
 },
 "nbformat": 4,
 "nbformat_minor": 5
}
